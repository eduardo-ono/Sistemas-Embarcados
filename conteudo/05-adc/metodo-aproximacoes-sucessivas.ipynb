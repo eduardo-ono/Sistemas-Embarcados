{
 "cells": [
  {
   "cell_type": "markdown",
   "metadata": {},
   "source": [
    "<h1 align=\"center\">Método das Aproximações Sucessivas</h1>\n",
    "\n",
    "<h4 align=\"center\">Prof. Eduardo Ono</h4>\n",
    "\n",
    "&nbsp;"
   ]
  },
  {
   "cell_type": "markdown",
   "metadata": {},
   "source": [
    "## Exemplos\n",
    "\n",
    "### Tensão de entrada = 2,0 V\n",
    "\n",
    "* Tensão de entrada: $2.0 \\text{ V}$\n",
    "* Resolução do conversor Analógico-Digital (ADC): 10-bit (valor digital = 0 ~ 1023)\n",
    "* Precisão do valor da tensão do comparador: $5.0 / 1024 \\cong 0.005 \\text{V}$ \n",
    "\n",
    "$$\n",
    "\\begin{array}{ |c|c|c|c|c|c|c|c|c|c|c| } \n",
    "  \\hline\n",
    "  \\text{Tensão de entrada (V)}       & 2.0   & 2.0   & 2.0   & 2.0   & 2.0   & 2.0   & 2.0   & 2.0   & 2.0   & 2.0 \\\\ \\hline\n",
    "  \\text{Comparador do ADC (V)}       & 2.500 & 1.250 & 1.875 & 2.190 & 2.035 & 1.955 & 1.995 & 2.015 & 2.005 & 2.000 \\\\ \\hline\n",
    "  \\text{bit resultante =} \\newline\n",
    "  \\text{Tensão de ent. > Comparador} & 0     & 1     & 1     & 0     & 0     & 1     & 1     & 0     & 0     & 0 \\\\ \\hline\n",
    "\\end{array}\n",
    "$$\n",
    "\n",
    "* Valor obtido = $0110011000_{(2)} = 408_{(10)}$\n",
    "\n",
    "### Tensão de entrada = 3,0 V\n",
    "\n",
    "* Tensão de entrada: $3.0 \\text{ V}$\n",
    "* Resolução do conversor Analógico-Digital (ADC): 10-bit (valor digital = 0 ~ 1023)\n",
    "* Precisão do valor da tensão do comparador: $5.0 / 1024 \\cong 0.005 \\text{V}$\n",
    "\n",
    "$$\n",
    "\\begin{array}{ |c|c|c|c|c|c|c|c|c|c|c| } \n",
    "  \\hline\n",
    "  \\text{Tensão de entrada (V)}       & 3.0 & 3.0  & 3.0   & 3.0   & 3.0   & 3.0   & 3.0   & 3.0   & 3.0   & 3.0 \\\\ \\hline\n",
    "  \\text{Comparador do ADC (V)}       & 2.5 & 3.75 & 3.125 & 2.815 & 2.970 & 3.050 & 3.010 & 2.990 & 3.000 & 2.995 \\\\ \\hline\n",
    "  \\text{bit resultante =} \\newline\n",
    "  \\text{Tensão de ent. > Comparador} & 1   & 0    & 0     & 1     & 1     & 0      & 0     & 1     & 0     & 1 \\\\ \\hline\n",
    "\\end{array}\n",
    "$$\n",
    "\n",
    "* Valor obtido = $1001100101_{(2)} = 613_{(10)}$\n",
    "\n",
    "&nbsp;"
   ]
  },
  {
   "cell_type": "markdown",
   "metadata": {},
   "source": [
    "&nbsp;\n",
    "\n",
    "## Referências\n",
    "\n",
    "| Thumb | Descrição | Tópicos Abordados |\n",
    "| :-: | :-- | :-- |\n",
    "| [![img](https://img.youtube.com/vi/LpvuQbLsm90/default.jpg)](https://www.youtube.com/watch?v=LpvuQbLsm90) | <sup>[Brincando com Ideias]</sup><br>[__Como trabalha a porta analógica do Arduino por dentro ?__](https://www.youtube.com/watch?v=LpvuQbLsm90)<br><sub>(13:45, YouTube, Ago/2019)</sub> | "
   ]
  }
 ],
 "metadata": {
  "kernelspec": {
   "display_name": "Python 3.9.13 ('base')",
   "language": "python",
   "name": "python3"
  },
  "language_info": {
   "name": "python",
   "version": "3.9.13"
  },
  "orig_nbformat": 4,
  "vscode": {
   "interpreter": {
    "hash": "6ca436f98112c699fca53176ca9b2af64a577e7d8248f3b63a91e306eedca64e"
   }
  }
 },
 "nbformat": 4,
 "nbformat_minor": 2
}
